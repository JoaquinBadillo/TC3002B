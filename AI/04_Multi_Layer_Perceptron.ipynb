{
  "nbformat": 4,
  "nbformat_minor": 0,
  "metadata": {
    "colab": {
      "provenance": []
    },
    "kernelspec": {
      "name": "python3",
      "display_name": "Python 3"
    },
    "language_info": {
      "name": "python"
    }
  },
  "cells": [
    {
      "cell_type": "code",
      "source": [
        "import os\n",
        "import torch\n",
        "from torch import optim, nn, utils, Tensor\n",
        "from torchvision.datasets import MNIST\n",
        "from torchvision import transforms\n",
        "from torch.utils.data import random_split, DataLoader\n",
        "torch.__version__"
      ],
      "metadata": {
        "colab": {
          "base_uri": "https://localhost:8080/",
          "height": 35
        },
        "id": "idINlRKbxyZp",
        "outputId": "bd3f8cd8-671a-426b-a829-b5e207d53884"
      },
      "execution_count": null,
      "outputs": [
        {
          "output_type": "execute_result",
          "data": {
            "text/plain": [
              "'2.6.0+cu124'"
            ],
            "application/vnd.google.colaboratory.intrinsic+json": {
              "type": "string"
            }
          },
          "metadata": {},
          "execution_count": 1
        }
      ]
    },
    {
      "cell_type": "code",
      "source": [
        "# Example of target with class indices\n",
        "loss = nn.CrossEntropyLoss()\n",
        "input = torch.randn(3, 5, requires_grad=True)\n",
        "target = torch.empty(3, dtype=torch.long).random_(5)\n",
        "output = loss(input, target)\n",
        "output.backward()\n",
        "# Example of target with class probabilities\n",
        "input = torch.randn(3, 5, requires_grad=True)\n",
        "target = torch.randn(3, 5).softmax(dim=1)\n",
        "output = loss(input, target)\n",
        "output.backward()\n",
        "\n",
        "input.shape"
      ],
      "metadata": {
        "colab": {
          "base_uri": "https://localhost:8080/"
        },
        "id": "aRJnU_bF2gtd",
        "outputId": "6c867824-621f-4bdf-b8cd-c71840bf2cf8"
      },
      "execution_count": null,
      "outputs": [
        {
          "output_type": "execute_result",
          "data": {
            "text/plain": [
              "torch.Size([3, 5])"
            ]
          },
          "metadata": {},
          "execution_count": 2
        }
      ]
    },
    {
      "cell_type": "code",
      "execution_count": null,
      "metadata": {
        "id": "ZohbScTipn8N"
      },
      "outputs": [],
      "source": [
        "torch.manual_seed(0)\n",
        "\n",
        "class NClassifier(torch.nn.Module):\n",
        "\n",
        "    def __init__(self, n_classes):\n",
        "      super(NClassifier, self).__init__()\n",
        "\n",
        "      self.encoder = nn.Sequential(nn.Linear(28 * 28, 64), nn.ReLU(), nn.Linear(64, n_classes))\n",
        "\n",
        "    def forward(self, x):\n",
        "        x = x.view(x.size(0), -1)\n",
        "        y_hat = self.encoder(x)\n",
        "        return y_hat\n",
        "\n",
        "device = torch.device(\"cuda:0\" if torch.cuda.is_available() else \"cpu\")\n",
        "\n",
        "n_classes=10\n",
        "model = NClassifier(n_classes)\n",
        "model = model.to(device)\n",
        "\n",
        "# download\n",
        "mnist_train = MNIST(os.getcwd(), train=True, download=True)\n",
        "\n",
        "# split dataset\n",
        "transform=transforms.Compose([transforms.ToTensor(),\n",
        "                              transforms.Normalize(0.5, 0.5)])\n",
        "mnist_train = MNIST(os.getcwd(), train=True, download=True, transform=transform)\n",
        "# train (55,000 images), val split (5,000 images)\n",
        "mnist_train, mnist_val = random_split(mnist_train, [55000, 5000])\n",
        "# The dataloaders handle shuffling, batching, etc..\n",
        "mnist_train = DataLoader(mnist_train, batch_size=64)\n",
        "mnist_val = DataLoader(mnist_val, batch_size=64)\n",
        "# optimizer\n",
        "params = model.parameters()\n",
        "optimizer = torch.optim.Adam(params, lr=1e-3)"
      ]
    },
    {
      "cell_type": "markdown",
      "source": [
        "# Assignment: Training with Early Stopping"
      ],
      "metadata": {
        "id": "erQbbtNB2E9G"
      }
    },
    {
      "cell_type": "code",
      "source": [
        "import matplotlib.pyplot as plt\n",
        "\n",
        "def train(model: torch.nn.Module,\n",
        "          training_set: DataLoader,\n",
        "          validation_set: DataLoader,\n",
        "          num_epochs: int = 100,\n",
        "          patience: int = 5,\n",
        "          plot: bool = False,\n",
        "          device: torch.device | None = None):\n",
        "  if device is None:\n",
        "    device = torch.device(\"cuda:0\" if torch.cuda.is_available() else \"cpu\")\n",
        "\n",
        "  model.to(device)\n",
        "  model.train()\n",
        "\n",
        "  best_val_loss = float('inf')\n",
        "  epochs_without_improvement = 0\n",
        "  best_model = None\n",
        "\n",
        "  val_losses=[]\n",
        "  epoch_losses = []\n",
        "\n",
        "  epoch = 0\n",
        "  while epoch < num_epochs and epochs_without_improvement < patience:\n",
        "    epoch += 1\n",
        "\n",
        "    # TRAINING\n",
        "    model.train()\n",
        "    train_loss = 0\n",
        "    n = 0\n",
        "    for x, y in mnist_train:\n",
        "      n += 1\n",
        "      x, y = x.to(device), y.to(device)\n",
        "      y_hat = model(x)\n",
        "      loss = nn.functional.cross_entropy(y_hat, y)\n",
        "      train_loss += loss.item()\n",
        "      loss.backward()\n",
        "      optimizer.step()\n",
        "      optimizer.zero_grad()\n",
        "    epoch_losses.append(train_loss / n)\n",
        "\n",
        "    # VALIDATION\n",
        "    model.eval()\n",
        "    val_loss = 0\n",
        "    n = 0\n",
        "    with torch.no_grad() :\n",
        "      for x, y in mnist_val:\n",
        "        n += 1\n",
        "        x, y = x.to(device), y.to(device)\n",
        "        y_hat = model(x)\n",
        "        loss = nn.functional.cross_entropy(y_hat, y)\n",
        "        val_loss += loss.item()\n",
        "    avg_loss = val_loss / n\n",
        "    val_losses.append(avg_loss)\n",
        "\n",
        "    if avg_loss < best_val_loss:\n",
        "      best_val_loss = avg_loss\n",
        "      epochs_without_improvement = 0\n",
        "      best_model = model.state_dict()\n",
        "    else:\n",
        "      epochs_without_improvement += 1\n",
        "      if epochs_without_improvement >= patience:\n",
        "        print(f\"Early stopping at epoch {epoch+1}. Best val loss: {best_val_loss:.4f}\")\n",
        "        model.load_state_dict(best_model)  # Restore best model\n",
        "\n",
        "  if plot:\n",
        "    plt.figure(figsize=(10, 5))\n",
        "    plt.plot(epoch_losses, label='Training Loss')\n",
        "    plt.plot(val_losses, label='Validation Loss')\n",
        "    plt.xlabel('Epoch')\n",
        "    plt.ylabel('Loss')\n",
        "    plt.title('Loss per Epoch')\n",
        "    plt.legend()\n",
        "    plt.grid(True)\n",
        "    plt.show()\n",
        "  return epoch"
      ],
      "metadata": {
        "id": "RC2ekhB4ztV5"
      },
      "execution_count": null,
      "outputs": []
    },
    {
      "cell_type": "code",
      "source": [
        "epoch = train(model=model,\n",
        "              training_set=mnist_train,\n",
        "              validation_set=mnist_val,\n",
        "              num_epochs=100,\n",
        "              patience=10,\n",
        "              plot=True,\n",
        "              device=device)"
      ],
      "metadata": {
        "colab": {
          "base_uri": "https://localhost:8080/",
          "height": 504
        },
        "id": "kWHUeawC2Bt0",
        "outputId": "66d03199-8bc6-4432-f746-448dda39d724"
      },
      "execution_count": null,
      "outputs": [
        {
          "output_type": "stream",
          "name": "stdout",
          "text": [
            "Early stopping at epoch 20. Best val loss: 0.1377\n"
          ]
        },
        {
          "output_type": "display_data",
          "data": {
            "text/plain": [
              "<Figure size 1000x500 with 1 Axes>"
            ],
            "image/png": "[encoded data removed]"
          },
          "metadata": {}
        }
      ]
    },
    {
      "cell_type": "code",
      "source": [
        "# set device for confusion matrix\n",
        "confusion_mtx = torch.zeros((n_classes, n_classes),\n",
        "                            dtype=torch.int64, device=device)\n",
        "model = model.to(device)\n",
        "for x,y in mnist_val:\n",
        "  x, y = x.to(device), y.to(device)\n",
        "  with torch.no_grad():\n",
        "    y_hat=nn.Softmax()(model(x)).argmax(dim=1)\n",
        "    for idx, el in enumerate(y):\n",
        "      confusion_mtx[el,y_hat[idx]]+=1\n",
        "\n",
        "print(confusion_mtx.sum())\n",
        "print(confusion_mtx)"
      ],
      "metadata": {
        "colab": {
          "base_uri": "https://localhost:8080/"
        },
        "id": "vTDJ1dIEqBM3",
        "outputId": "c2dd4877-ee40-4d9c-a87a-f65e64639b06"
      },
      "execution_count": null,
      "outputs": [
        {
          "output_type": "stream",
          "name": "stderr",
          "text": [
            "/usr/local/lib/python3.11/dist-packages/torch/nn/modules/module.py:1739: UserWarning: Implicit dimension choice for softmax has been deprecated. Change the call to include dim=X as an argument.\n",
            "  return self._call_impl(*args, **kwargs)\n"
          ]
        },
        {
          "output_type": "stream",
          "name": "stdout",
          "text": [
            "tensor(5000)\n",
            "tensor([[487,   0,   2,   2,   1,   3,   1,   1,   5,   0],\n",
            "        [  0, 540,   1,   1,   0,   0,   0,   1,   3,   0],\n",
            "        [  1,   6, 456,   9,   8,   1,   3,   6,   6,   1],\n",
            "        [  0,   1,   2, 529,   0,   5,   0,   0,   3,   1],\n",
            "        [  0,   2,   1,   1, 497,   2,   1,   3,   2,   3],\n",
            "        [  0,   0,   0,  14,   1, 397,   1,   1,   8,   3],\n",
            "        [  1,   0,   0,   1,   2,   3, 476,   0,   2,   0],\n",
            "        [  0,   1,   2,   4,   3,   1,   0, 502,   3,   2],\n",
            "        [  0,   1,   0,   6,   1,   4,   1,   0, 439,   1],\n",
            "        [  2,   0,   0,   8,  11,   3,   0,   8,   5, 484]])\n"
          ]
        }
      ]
    },
    {
      "cell_type": "code",
      "source": [
        "from google.colab import drive\n",
        "drive.mount('/content/drive')"
      ],
      "metadata": {
        "colab": {
          "base_uri": "https://localhost:8080/"
        },
        "id": "4Mw4Y3n63OE-",
        "outputId": "6723ed4f-282d-4a80-dc86-40acfe937b31"
      },
      "execution_count": null,
      "outputs": [
        {
          "output_type": "stream",
          "name": "stdout",
          "text": [
            "Drive already mounted at /content/drive; to attempt to forcibly remount, call drive.mount(\"/content/drive\", force_remount=True).\n"
          ]
        }
      ]
    },
    {
      "cell_type": "code",
      "source": [
        "filename=\"/content/drive/MyDrive/model_ckpt.pth\"\n",
        "\n",
        "save_dict={\n",
        "    \"model_state_dict\":model.state_dict(),\n",
        "    \"optimizer_state_dict\":optimizer.state_dict(),\n",
        "    \"cur_epoch\": epoch,\n",
        "}\n",
        "\n",
        "torch.save(save_dict,filename)"
      ],
      "metadata": {
        "id": "oppzOkx93RPK"
      },
      "execution_count": null,
      "outputs": []
    },
    {
      "cell_type": "code",
      "source": [
        "data=torch.load(filename)\n",
        "model.load_state_dict(data[\"model_state_dict\"])\n",
        "cur_epoch=data[\"cur_epoch\"]"
      ],
      "metadata": {
        "id": "PareB5XpMe9c"
      },
      "execution_count": null,
      "outputs": []
    },
    {
      "cell_type": "markdown",
      "source": [
        "# Assignment: Model Metrics"
      ],
      "metadata": {
        "id": "ZNMs3OJW3bBy"
      }
    },
    {
      "cell_type": "code",
      "source": [
        "class ModelMetrics:\n",
        "  @staticmethod\n",
        "  def from_confusion_mtx(confusion_mtx: torch.Tensor, device=None):\n",
        "    if device == None:\n",
        "      device = torch.device(\"cuda:0\" if torch.cuda.is_available() else \"cpu\")\n",
        "\n",
        "    mtx = confusion_mtx.to(device)\n",
        "    num_classes = confusion_mtx.shape[0]\n",
        "\n",
        "    # From the definition in https://stats.stackexchange.com/a/51301\n",
        "    results = dict()\n",
        "\n",
        "    results[\"precision\"] = torch.Tensor([mtx[i,i] / torch.sum(mtx[:,i])\n",
        "                                         for i in range(num_classes)])\n",
        "    results[\"recall\"] = torch.Tensor([mtx[i,i] / torch.sum(mtx[i,:])\n",
        "                                      for i in range(num_classes)])\n",
        "    results[\"f1-score\"] = 2 * results[\"precision\"] * results[\"recall\"] / (results[\"precision\"] + results[\"recall\"])\n",
        "\n",
        "    # Accuracy (per-class)\n",
        "    # Based on https://github.com/pytorch/torcheval/blob/main/torcheval/metrics/functional/classification/accuracy.py\n",
        "    results[\"accuracy\"] = mtx.diag() / mtx.sum(dim=1)\n",
        "\n",
        "    return {\n",
        "        \"model\": {k: torch.mean(v) for k,v in results.items()},\n",
        "        \"labeled\": results\n",
        "    }"
      ],
      "metadata": {
        "id": "rJ8nX5iH3apj"
      },
      "execution_count": null,
      "outputs": []
    },
    {
      "cell_type": "code",
      "source": [
        "stats = ModelMetrics.from_confusion_mtx(confusion_mtx)"
      ],
      "metadata": {
        "id": "M0luj65n3gBA"
      },
      "execution_count": null,
      "outputs": []
    },
    {
      "cell_type": "code",
      "source": [
        "num_classes = confusion_mtx.shape[0]\n",
        "\n",
        "# Pretty Print\n",
        "headers = list(stats[\"labeled\"].keys())\n",
        "\n",
        "rows = [[f\"{float(stats['labeled'][header][i]):.5f}\" for header in headers]\n",
        "        for i in range(num_classes)]\n",
        "averages = [f\"{float(stats['model'][header]):.5f}\" for header in headers]\n",
        "\n",
        "# Fix length\n",
        "headers = [\"class\", *headers]\n",
        "fmtstr = \"  \".join([\"{:<10}\"] + [\"{:<10}\" for _ in headers[1:]])\n",
        "lines = [fmtstr.format(*headers)]\n",
        "lines.extend([fmtstr.format(idx, *row) for idx, row in enumerate(rows)])\n",
        "lines.extend([fmtstr.format(\"Model\", *averages)])\n",
        "\n",
        "# Table Separator\n",
        "row_sep = f\"\\n{len(lines[0])*'─'}\\n\"\n",
        "print(f\"{row_sep[1:]}{row_sep.join(lines)}{row_sep[:-1]}\")"
      ],
      "metadata": {
        "colab": {
          "base_uri": "https://localhost:8080/"
        },
        "id": "s3eps1oQ3ji9",
        "outputId": "6569204a-fd7f-48ac-f99f-b6d5d02d512c"
      },
      "execution_count": null,
      "outputs": [
        {
          "output_type": "stream",
          "name": "stdout",
          "text": [
            "──────────────────────────────────────────────────────────\n",
            "class       precision   recall      f1-score    accuracy  \n",
            "──────────────────────────────────────────────────────────\n",
            "0           0.99185     0.97012     0.98087     0.97012   \n",
            "──────────────────────────────────────────────────────────\n",
            "1           0.98004     0.98901     0.98450     0.98901   \n",
            "──────────────────────────────────────────────────────────\n",
            "2           0.98276     0.91751     0.94901     0.91751   \n",
            "──────────────────────────────────────────────────────────\n",
            "3           0.92000     0.97782     0.94803     0.97782   \n",
            "──────────────────────────────────────────────────────────\n",
            "4           0.94847     0.97070     0.95946     0.97070   \n",
            "──────────────────────────────────────────────────────────\n",
            "5           0.94749     0.93412     0.94076     0.93412   \n",
            "──────────────────────────────────────────────────────────\n",
            "6           0.98551     0.98144     0.98347     0.98144   \n",
            "──────────────────────────────────────────────────────────\n",
            "7           0.96169     0.96911     0.96538     0.96911   \n",
            "──────────────────────────────────────────────────────────\n",
            "8           0.92227     0.96909     0.94510     0.96909   \n",
            "──────────────────────────────────────────────────────────\n",
            "9           0.97778     0.92898     0.95276     0.92898   \n",
            "──────────────────────────────────────────────────────────\n",
            "Model       0.96179     0.96079     0.96093     0.96079   \n",
            "──────────────────────────────────────────────────────────\n"
          ]
        }
      ]
    },
    {
      "cell_type": "markdown",
      "source": [
        "## Verify Solution"
      ],
      "metadata": {
        "id": "R3THgL2T3lcF"
      }
    },
    {
      "cell_type": "code",
      "source": [
        "!pip install torcheval\n",
        "\n",
        "from torcheval.metrics import (\n",
        "    MulticlassAccuracy,\n",
        "    MulticlassPrecision,\n",
        "    MulticlassRecall,\n",
        "    MulticlassF1Score\n",
        ")"
      ],
      "metadata": {
        "colab": {
          "base_uri": "https://localhost:8080/"
        },
        "id": "SIFufkGc3k1v",
        "outputId": "41826d75-c6df-4e74-e9b8-b2ffca1e92ae"
      },
      "execution_count": null,
      "outputs": [
        {
          "output_type": "stream",
          "name": "stdout",
          "text": [
            "Requirement already satisfied: torcheval in /usr/local/lib/python3.11/dist-packages (0.0.7)\n",
            "Requirement already satisfied: typing-extensions in /usr/local/lib/python3.11/dist-packages (from torcheval) (4.13.2)\n"
          ]
        }
      ]
    },
    {
      "cell_type": "code",
      "source": [
        "# Compare with pytorch metrics\n",
        "# https://docs.pytorch.org/torcheval/main/torcheval.metrics.html#classification-metrics\n",
        "num_classes = 10\n",
        "device = torch.device(\"cuda:0\" if torch.cuda.is_available() else \"cpu\")\n",
        "\n",
        "accuracy = MulticlassAccuracy(num_classes=num_classes, average=None).to(device)\n",
        "precision = MulticlassPrecision(num_classes=num_classes, average=None).to(device)\n",
        "recall    = MulticlassRecall(num_classes=num_classes, average=None).to(device)\n",
        "f1_score  = MulticlassF1Score(num_classes=num_classes, average=None).to(device)\n",
        "\n",
        "model.eval()\n",
        "with torch.no_grad():\n",
        "    for inputs, targets in mnist_val:\n",
        "        inputs, targets = inputs.to(device), targets.to(device)\n",
        "\n",
        "        logits = model(inputs)\n",
        "        preds  = logits.argmax(dim=1)\n",
        "\n",
        "        accuracy.update(preds, targets)\n",
        "        precision.update(preds, targets)\n",
        "        recall.update(preds, targets)\n",
        "        f1_score.update(preds, targets)\n",
        "\n",
        "results = {\n",
        "    \"accuracy\": accuracy.compute(),\n",
        "    \"precision\": precision.compute(),\n",
        "    \"recall\": recall.compute(),\n",
        "    \"f1-score\": f1_score.compute()\n",
        "}\n",
        "\n",
        "computed = stats['labeled']\n",
        "\n",
        "for key, metrics in results.items():\n",
        "  for i, val in enumerate(metrics):\n",
        "    if val != (c := computed[key][i]):\n",
        "      print(f\"Implementation error, expected {val} got {c}\")"
      ],
      "metadata": {
        "colab": {
          "base_uri": "https://localhost:8080/"
        },
        "id": "vrqwVVbo3qR4",
        "outputId": "308e052f-3f35-4aae-af4b-67489101a049"
      },
      "execution_count": null,
      "outputs": [
        {
          "output_type": "stream",
          "name": "stderr",
          "text": [
            "/usr/local/lib/python3.11/dist-packages/torcheval/metrics/functional/classification/accuracy.py:275: UserWarning: The reduce argument of torch.scatter with Tensor src is deprecated and will be removed in a future PyTorch release. Use torch.scatter_reduce instead for more reduction options. (Triggered internally at /pytorch/aten/src/ATen/native/TensorAdvancedIndexing.cpp:231.)\n",
            "  num_correct = mask.new_zeros(num_classes).scatter_(0, target, mask, reduce=\"add\")\n"
          ]
        }
      ]
    }
  ]
}