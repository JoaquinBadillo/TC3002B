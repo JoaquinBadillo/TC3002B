{
  "cells": [
    {
      "cell_type": "code",
      "execution_count": null,
      "metadata": {
        "id": "hWj_AQaPScxS"
      },
      "outputs": [],
      "source": [
        "import os\n",
        "import torch\n",
        "from torch import optim, nn, utils, Tensor\n",
        "import torch.nn.functional as F\n",
        "from torchvision.datasets import MNIST\n",
        "from torchvision import transforms\n",
        "from torch.utils.data import random_split, DataLoader\n",
        "import matplotlib.pyplot as plt\n",
        "\n",
        "torch.manual_seed(0);"
      ]
    },
    {
      "cell_type": "code",
      "execution_count": null,
      "metadata": {
        "id": "nEGjxeE1pIHd",
        "colab": {
          "base_uri": "https://localhost:8080/",
          "height": 482
        },
        "outputId": "d696662c-e34b-4bf9-df5b-dcfa4d344a08"
      },
      "outputs": [
        {
          "output_type": "stream",
          "name": "stdout",
          "text": [
            "13 32 5408\n",
            "tensor([[0.0732, 0.0746, 0.1118, 0.1378, 0.0979, 0.1004, 0.1027, 0.1034, 0.0946,\n",
            "         0.1036]])\n"
          ]
        },
        {
          "output_type": "display_data",
          "data": {
            "text/plain": [
              "<Figure size 640x480 with 1 Axes>"
            ],
            "image/png": "[encoded data removed]"
          },
          "metadata": {}
        }
      ],
      "source": [
        "class NClassifier(torch.nn.Module):\n",
        "\n",
        "    def __init__(self, n_classes):\n",
        "      super(NClassifier, self).__init__()\n",
        "\n",
        "      self.encoder = nn.Sequential(nn.Linear(28 * 28, 64), nn.ReLU(), nn.Linear(64, n_classes))\n",
        "\n",
        "    def forward(self, x):\n",
        "        x = x.view(x.size(0), -1)\n",
        "        y_hat = self.encoder(x)\n",
        "        return y_hat\n",
        "\n",
        "class CNNClassifier(torch.nn.Module):\n",
        "    # conv_layers: an array of arrays like: [[1,32, 5],[32,32, 5],[32,64, 5]]   the third element of each array is the kernel_size\n",
        "    # interlayer_activation_fns: actual nn.functional that will be called after each convolution\n",
        "    # fc_layers: an array of arrays like: [[3*3*64,256],[256,n_classes]]\n",
        "\n",
        "    # self.conv1 = nn.Conv2d(1, 32, kernel_size=5)\n",
        "    # self.conv2 = nn.Conv2d(32, 32, kernel_size=5)\n",
        "    # self.conv3 = nn.Conv2d(32,64, kernel_size=5)\n",
        "    # self.fc1 = nn.Linear(3*3*64, 256)\n",
        "    # self.fc2 = nn.Linear(256, n_classes)\n",
        "    def __init__(self,img_dim, conv_layers,interlayer_activation_fns, fc_layers, n_classes=10):\n",
        "        super(CNNClassifier, self).__init__()\n",
        "        self.interlayer_activation_fns=interlayer_activation_fns\n",
        "        self.conv_layers=conv_layers\n",
        "        self.fc_layers=fc_layers\n",
        "\n",
        "        self.nc = img_dim\n",
        "        for idx,conv_layer in enumerate(conv_layers):\n",
        "          setattr(self,\"conv\"+str(idx),nn.Conv2d(conv_layer[0],conv_layer[1],kernel_size=conv_layer[2]))\n",
        "          self.nc+=-conv_layer[2] + 1   # - r i.e. kernel_size\n",
        "\n",
        "          for el in interlayer_activation_fns:\n",
        "            if(el[0]==\"max_pool2d\"):\n",
        "              self.nc=int(self.nc/el[1])\n",
        "              if(self.nc<0):\n",
        "                raise ValueError(\"Alert!: resulting Feature map will be less than 0\")\n",
        "\n",
        "        for idx,fc_layer in enumerate(fc_layers):\n",
        "          input2nn=fc_layer[0]\n",
        "          if(idx==0):\n",
        "            input2nn=int((self.nc*self.nc)*conv_layers[-1][1])\n",
        "            print(self.nc, conv_layers[-1][1],input2nn)\n",
        "          setattr(self,\"fc\"+str(idx),nn.Linear(input2nn,fc_layer[1]))\n",
        "\n",
        "    def forward(self, x):\n",
        "        # New Feature Map size is n_c = ((n_i + 2P - r)/s) + 1\n",
        "        for idx,conv_layer in enumerate(self.conv_layers):\n",
        "          conv=getattr(self,\"conv\"+str(idx))\n",
        "          x=conv(x)\n",
        "          for el in self.interlayer_activation_fns:\n",
        "            if(el[0]==\"relu\"):\n",
        "              x=F.relu(x)\n",
        "\n",
        "            if(el[0]==\"max_pool2d\"):\n",
        "              x=F.max_pool2d(x,el[1])\n",
        "\n",
        "            if(el[0]==\"dropout\"):\n",
        "              x=F.dropout(x,training=self.training)\n",
        "\n",
        "        x=x.view(-1,int((self.nc*self.nc)*self.conv_layers[-1][1]))\n",
        "\n",
        "        for idx,fc_layer in enumerate(self.fc_layers):\n",
        "          fc=getattr(self,\"fc\"+str(idx))\n",
        "          x=fc(x)\n",
        "\n",
        "        return F.softmax(x, dim=1) if self.training else x            # Softmax is called for inference only, since CrossEntropyLoss already computes it\n",
        "\n",
        "# define the NN architecture\n",
        "class ConvAutoencoder(nn.Module):\n",
        "    def __init__(self):\n",
        "        super(ConvAutoencoder, self).__init__()\n",
        "\n",
        "        self.conv1 = nn.Conv2d(1, 16, 3, padding=1)\n",
        "        self.conv2 = nn.Conv2d(16, 4, 3, padding=1)\n",
        "        self.pool = nn.MaxPool2d(2, 2)\n",
        "\n",
        "        self.t_conv1 = nn.ConvTranspose2d(4, 16, 2, stride=2)\n",
        "        self.t_conv2 = nn.ConvTranspose2d(16, 1, 2, stride=2)\n",
        "\n",
        "\n",
        "    def forward(self, x1):\n",
        "        x = F.relu(self.conv1(x1))\n",
        "        x = self.pool(x)\n",
        "        x = F.relu(self.conv2(x))\n",
        "        x = self.pool(x)\n",
        "        x = F.relu(self.t_conv1(x))\n",
        "        x = F.sigmoid(self.t_conv2(x))\n",
        "        return x\n",
        "\n",
        "n_classes=10\n",
        "img_dim=28\n",
        "model=CNNClassifier(img_dim,[[1,32, 3]],[[\"relu\"],[\"max_pool2d\",2]],[[1,256],[256,n_classes]],n_classes)\n",
        "\n",
        "# Is this random call affecting RNG?\n",
        "random_img=torch.randn(1,28,28)\n",
        "result=model(random_img).detach()\n",
        "print(result)\n",
        "plt.imshow(random_img.permute(1,2,0))\n",
        "plt.show()"
      ]
    },
    {
      "cell_type": "code",
      "execution_count": null,
      "metadata": {
        "colab": {
          "base_uri": "https://localhost:8080/"
        },
        "id": "ZohbScTipn8N",
        "outputId": "c2c22e5a-089b-47af-9119-d1a16c0fab64"
      },
      "outputs": [
        {
          "output_type": "stream",
          "name": "stdout",
          "text": [
            "13 32 5408\n"
          ]
        },
        {
          "output_type": "stream",
          "name": "stderr",
          "text": [
            "100%|██████████| 9.91M/9.91M [00:00<00:00, 54.8MB/s]\n",
            "100%|██████████| 28.9k/28.9k [00:00<00:00, 1.75MB/s]\n",
            "100%|██████████| 1.65M/1.65M [00:00<00:00, 14.4MB/s]\n",
            "100%|██████████| 4.54k/4.54k [00:00<00:00, 5.99MB/s]\n"
          ]
        }
      ],
      "source": [
        "from tqdm import tqdm\n",
        "\n",
        "device = torch.device(\"cuda:0\" if torch.cuda.is_available() else \"cpu\")\n",
        "\n",
        "n_classes=10\n",
        "model=CNNClassifier(img_dim,[[1,32, 3]],[[\"relu\"],[\"max_pool2d\",2]],[[1,256],[256,n_classes]],n_classes)\n",
        "model=model.to(device)\n",
        "mnist_train = MNIST(os.getcwd(), train=True, download=True)\n",
        "\n",
        "transform=transforms.Compose([transforms.ToTensor(),\n",
        "                              transforms.Normalize(0.5, 0.5)\n",
        "                              ]\n",
        "                             )\n",
        "mnist_train = MNIST(os.getcwd(), train=True, download=True, transform=transform)\n",
        "mnist_train, mnist_val = random_split(mnist_train, [55000, 5000])\n",
        "\n",
        "# Data Loaders\n",
        "mnist_train = DataLoader(mnist_train, batch_size=64)\n",
        "mnist_val = DataLoader(mnist_val, batch_size=64)\n",
        "\n",
        "# ADAM Optimizer\n",
        "params = model.parameters()\n",
        "optimizer = torch.optim.Adam(params, lr=1e-3)"
      ]
    },
    {
      "cell_type": "markdown",
      "source": [
        "# Assignment: Training with Early Stopping"
      ],
      "metadata": {
        "id": "XLcX2JpFjCTQ"
      }
    },
    {
      "cell_type": "code",
      "source": [
        "def train(model: torch.nn.Module,\n",
        "          training_set: DataLoader,\n",
        "          validation_set: DataLoader,\n",
        "          num_epochs: int = 100,\n",
        "          patience: int = 5,\n",
        "          plot: bool = False,\n",
        "          device: torch.device | None = None):\n",
        "  if device is None:\n",
        "    device = torch.device(\"cuda:0\" if torch.cuda.is_available() else \"cpu\")\n",
        "\n",
        "  model.to(device)\n",
        "\n",
        "  best_val_loss = float('inf')\n",
        "  epochs_without_improvement = 0\n",
        "  best_model = None\n",
        "\n",
        "  val_losses=[]\n",
        "  epoch_losses = []\n",
        "\n",
        "  epoch = 0\n",
        "  while epoch < num_epochs and epochs_without_improvement < patience:\n",
        "    epoch += 1\n",
        "\n",
        "    # TRAINING\n",
        "    model.train()\n",
        "    train_loss = 0\n",
        "    n = 0\n",
        "    for x, y in training_set:\n",
        "      n += 1\n",
        "      x, y = x.to(device), y.to(device)\n",
        "      y_hat = model(x)\n",
        "      loss = nn.functional.cross_entropy(y_hat, y)\n",
        "      train_loss += loss.item()\n",
        "      loss.backward()\n",
        "      optimizer.step()\n",
        "      optimizer.zero_grad()\n",
        "\n",
        "    epoch_losses.append(train_loss / n)\n",
        "\n",
        "    # VALIDATION\n",
        "    model.eval()\n",
        "    val_loss = 0\n",
        "    n = 0\n",
        "    with torch.no_grad():\n",
        "      for x, y in validation_set:\n",
        "        n += 1\n",
        "        x, y = x.to(device), y.to(device)\n",
        "        y_hat = model(x)\n",
        "        loss = nn.functional.cross_entropy(y_hat, y)\n",
        "        val_loss += loss.item()\n",
        "    avg_loss = val_loss / n\n",
        "    val_losses.append(avg_loss)\n",
        "\n",
        "    if avg_loss < best_val_loss:\n",
        "      best_val_loss = avg_loss\n",
        "      epochs_without_improvement = 0\n",
        "      best_model = model.state_dict()\n",
        "    else:\n",
        "      epochs_without_improvement += 1\n",
        "      if epochs_without_improvement >= patience:\n",
        "          print(f\"Early stopping at epoch {epoch+1}. Best val loss: {best_val_loss:.4f}\")\n",
        "          model.load_state_dict(best_model)  # Restore best model\n",
        "\n",
        "  if plot:\n",
        "    plt.figure(figsize=(10, 5))\n",
        "    plt.plot(epoch_losses, label='Training Loss')\n",
        "    plt.plot(val_losses, label='Validation Loss')\n",
        "    plt.xlabel('Epoch')\n",
        "    plt.ylabel('Loss')\n",
        "    plt.title('Loss per Epoch')\n",
        "    plt.legend()\n",
        "    plt.grid(True)\n",
        "    plt.show()\n",
        "  return epoch"
      ],
      "metadata": {
        "id": "WIZHdWHrjA40"
      },
      "execution_count": null,
      "outputs": []
    },
    {
      "cell_type": "code",
      "source": [
        "epoch = train(model=model,\n",
        "              training_set=mnist_train,\n",
        "              validation_set=mnist_val,\n",
        "              num_epochs=100,\n",
        "              patience=10,\n",
        "              plot=True,\n",
        "              device=device)"
      ],
      "metadata": {
        "colab": {
          "base_uri": "https://localhost:8080/",
          "height": 504
        },
        "id": "GKyTf45kl0bY",
        "outputId": "40af0925-2f8b-4053-b65d-a7ce2aab2a2e"
      },
      "execution_count": null,
      "outputs": [
        {
          "output_type": "stream",
          "name": "stdout",
          "text": [
            "Early stopping at epoch 13. Best val loss: 0.2388\n"
          ]
        },
        {
          "output_type": "display_data",
          "data": {
            "text/plain": [
              "<Figure size 1000x500 with 1 Axes>"
            ],
            "image/png": "[encoded data removed]"
          },
          "metadata": {}
        }
      ]
    },
    {
      "cell_type": "code",
      "execution_count": null,
      "metadata": {
        "colab": {
          "base_uri": "https://localhost:8080/"
        },
        "id": "vTDJ1dIEqBM3",
        "outputId": "ee2afdfe-37e4-4b19-85a3-20c9139c5918"
      },
      "outputs": [
        {
          "output_type": "stream",
          "name": "stderr",
          "text": [
            "/usr/local/lib/python3.11/dist-packages/torch/nn/modules/module.py:1739: UserWarning: Implicit dimension choice for softmax has been deprecated. Change the call to include dim=X as an argument.\n",
            "  return self._call_impl(*args, **kwargs)\n"
          ]
        },
        {
          "output_type": "stream",
          "name": "stdout",
          "text": [
            "tensor(5000)\n",
            "tensor([[486,   0,   2,   2,   0,   6,   1,   0,   2,   6],\n",
            "        [  0, 548,   4,   1,   0,   1,   0,   0,   5,   0],\n",
            "        [  0,   0, 478,   5,   1,   0,   0,   7,   2,   5],\n",
            "        [  0,   0,   4, 505,   0,   2,   0,   0,   1,   0],\n",
            "        [  0,   2,   1,   0, 447,   0,   0,   0,   1,   4],\n",
            "        [  0,   0,   0,  10,   0, 444,   2,   0,   1,   3],\n",
            "        [  0,   0,   1,   1,   7,  11, 485,   0,   2,   0],\n",
            "        [  0,   0,   1,   1,   1,   0,   0, 493,   0,   2],\n",
            "        [  2,   0,   2,   1,   0,   1,   2,   2, 471,   7],\n",
            "        [  0,   1,   0,   1,   5,   0,   0,   3,   2, 506]])\n"
          ]
        }
      ],
      "source": [
        "# set device for confusion matrix\n",
        "confusion_mtx = torch.zeros((n_classes, n_classes),\n",
        "                            dtype=torch.int64, device=device)\n",
        "model = model.to(device)\n",
        "for x,y in mnist_val:\n",
        "  x, y = x.to(device), y.to(device)\n",
        "  with torch.no_grad():\n",
        "    y_hat=nn.Softmax()(model(x)).argmax(dim=1)\n",
        "    for idx, el in enumerate(y):\n",
        "      confusion_mtx[el,y_hat[idx]]+=1\n",
        "\n",
        "print(confusion_mtx.sum())\n",
        "print(confusion_mtx)"
      ]
    },
    {
      "cell_type": "code",
      "source": [
        "from google.colab import drive\n",
        "drive.mount('/content/drive')"
      ],
      "metadata": {
        "id": "c_IqRbNbrLPx",
        "colab": {
          "base_uri": "https://localhost:8080/"
        },
        "outputId": "132ee134-96ab-4611-ff05-8b47e0efc842"
      },
      "execution_count": null,
      "outputs": [
        {
          "output_type": "stream",
          "name": "stdout",
          "text": [
            "Mounted at /content/drive\n"
          ]
        }
      ]
    },
    {
      "cell_type": "code",
      "source": [
        "filename=\"/content/drive/MyDrive/cnnautoencoder_model_ckpt.pth\"\n",
        "\n",
        "save_dict={\n",
        "    \"model_state_dict\":model.state_dict(),\n",
        "    \"optimizer_state_dict\":optimizer.state_dict(),\n",
        "    \"cur_epoch\": epoch,\n",
        "}\n",
        "\n",
        "torch.save(save_dict,filename)"
      ],
      "metadata": {
        "id": "gtJlha_05UL6"
      },
      "execution_count": null,
      "outputs": []
    },
    {
      "cell_type": "code",
      "source": [
        "data=torch.load(filename)\n",
        "model.load_state_dict(data[\"model_state_dict\"])\n",
        "cur_epoch=data[\"cur_epoch\"]"
      ],
      "metadata": {
        "id": "KHCfoIScsdQB"
      },
      "execution_count": null,
      "outputs": []
    },
    {
      "cell_type": "markdown",
      "source": [
        "# Assignment: Model Metrics"
      ],
      "metadata": {
        "id": "gTacyw78czk9"
      }
    },
    {
      "cell_type": "code",
      "source": [
        "class ModelMetrics:\n",
        "  @staticmethod\n",
        "  def from_confusion_mtx(confusion_mtx: torch.Tensor, device=None):\n",
        "    if device == None:\n",
        "      device = torch.device(\"cuda:0\" if torch.cuda.is_available() else \"cpu\")\n",
        "\n",
        "    mtx = confusion_mtx.to(device)\n",
        "    num_classes = confusion_mtx.shape[0]\n",
        "\n",
        "    # From the definition in https://stats.stackexchange.com/a/51301\n",
        "    results = dict()\n",
        "\n",
        "    results[\"precision\"] = torch.Tensor([mtx[i,i] / torch.sum(mtx[:,i])\n",
        "                                         for i in range(num_classes)])\n",
        "    results[\"recall\"] = torch.Tensor([mtx[i,i] / torch.sum(mtx[i,:])\n",
        "                                      for i in range(num_classes)])\n",
        "    results[\"f1-score\"] = 2 * results[\"precision\"] * results[\"recall\"] / (results[\"precision\"] + results[\"recall\"])\n",
        "\n",
        "    # Accuracy (per-class)\n",
        "    # Based on https://github.com/pytorch/torcheval/blob/main/torcheval/metrics/functional/classification/accuracy.py\n",
        "    results[\"accuracy\"] = mtx.diag() / mtx.sum(dim=1)\n",
        "\n",
        "    return {\n",
        "        \"model\": {k: torch.mean(v) for k,v in results.items()},\n",
        "        \"labeled\": results\n",
        "    }"
      ],
      "metadata": {
        "id": "YjKqqNjsvgMK"
      },
      "execution_count": null,
      "outputs": []
    },
    {
      "cell_type": "code",
      "source": [
        "stats = ModelMetrics.from_confusion_mtx(confusion_mtx)"
      ],
      "metadata": {
        "id": "sPj-2UiEbAWz"
      },
      "execution_count": null,
      "outputs": []
    },
    {
      "cell_type": "code",
      "source": [
        "num_classes = confusion_mtx.shape[0]\n",
        "\n",
        "# Pretty Print\n",
        "headers = list(stats[\"labeled\"].keys())\n",
        "\n",
        "rows = [[f\"{float(stats['labeled'][header][i]):.5f}\" for header in headers]\n",
        "        for i in range(num_classes)]\n",
        "averages = [f\"{float(stats['model'][header]):.5f}\" for header in headers]\n",
        "\n",
        "# Fix length\n",
        "headers = [\"class\", *headers]\n",
        "fmtstr = \"  \".join([\"{:<10}\"] + [\"{:<10}\" for _ in headers[1:]])\n",
        "lines = [fmtstr.format(*headers)]\n",
        "lines.extend([fmtstr.format(idx, *row) for idx, row in enumerate(rows)])\n",
        "lines.extend([fmtstr.format(\"Model\", *averages)])\n",
        "\n",
        "# Table Separator\n",
        "row_sep = f\"\\n{len(lines[0])*'─'}\\n\"\n",
        "print(f\"{row_sep[1:]}{row_sep.join(lines)}{row_sep[:-1]}\")"
      ],
      "metadata": {
        "colab": {
          "base_uri": "https://localhost:8080/"
        },
        "id": "U1F5_AP7ieWw",
        "outputId": "d4757f15-ecac-4090-b37a-a7a1843a884d"
      },
      "execution_count": null,
      "outputs": [
        {
          "output_type": "stream",
          "name": "stdout",
          "text": [
            "──────────────────────────────────────────────────────────\n",
            "class       precision   recall      f1-score    accuracy  \n",
            "──────────────────────────────────────────────────────────\n",
            "0           0.99590     0.96238     0.97885     0.96238   \n",
            "──────────────────────────────────────────────────────────\n",
            "1           0.99456     0.98032     0.98739     0.98032   \n",
            "──────────────────────────────────────────────────────────\n",
            "2           0.96957     0.95984     0.96468     0.95984   \n",
            "──────────────────────────────────────────────────────────\n",
            "3           0.95825     0.98633     0.97209     0.98633   \n",
            "──────────────────────────────────────────────────────────\n",
            "4           0.96963     0.98242     0.97598     0.98242   \n",
            "──────────────────────────────────────────────────────────\n",
            "5           0.95484     0.96522     0.96000     0.96522   \n",
            "──────────────────────────────────────────────────────────\n",
            "6           0.98980     0.95661     0.97292     0.95661   \n",
            "──────────────────────────────────────────────────────────\n",
            "7           0.97624     0.98996     0.98305     0.98996   \n",
            "──────────────────────────────────────────────────────────\n",
            "8           0.96715     0.96516     0.96615     0.96516   \n",
            "──────────────────────────────────────────────────────────\n",
            "9           0.94934     0.97683     0.96289     0.97683   \n",
            "──────────────────────────────────────────────────────────\n",
            "Model       0.97253     0.97251     0.97240     0.97251   \n",
            "──────────────────────────────────────────────────────────\n"
          ]
        }
      ]
    },
    {
      "cell_type": "markdown",
      "source": [
        "## Verify Solution"
      ],
      "metadata": {
        "id": "YkLyEvKyc4ZN"
      }
    },
    {
      "cell_type": "code",
      "source": [
        "!pip install torcheval\n",
        "\n",
        "from torcheval.metrics import (\n",
        "    MulticlassAccuracy,\n",
        "    MulticlassPrecision,\n",
        "    MulticlassRecall,\n",
        "    MulticlassF1Score\n",
        ")"
      ],
      "metadata": {
        "colab": {
          "base_uri": "https://localhost:8080/"
        },
        "id": "xe_fTb7EJcij",
        "outputId": "f9d9b32b-7b68-4cf1-b10e-55dd1834b7c2"
      },
      "execution_count": null,
      "outputs": [
        {
          "output_type": "stream",
          "name": "stdout",
          "text": [
            "Collecting torcheval\n",
            "  Downloading torcheval-0.0.7-py3-none-any.whl.metadata (8.6 kB)\n",
            "Requirement already satisfied: typing-extensions in /usr/local/lib/python3.11/dist-packages (from torcheval) (4.13.2)\n",
            "Downloading torcheval-0.0.7-py3-none-any.whl (179 kB)\n",
            "\u001b[2K   \u001b[90m━━━━━━━━━━━━━━━━━━━━━━━━━━━━━━━━━━━━━━━━\u001b[0m \u001b[32m179.2/179.2 kB\u001b[0m \u001b[31m3.1 MB/s\u001b[0m eta \u001b[36m0:00:00\u001b[0m\n",
            "\u001b[?25hInstalling collected packages: torcheval\n",
            "Successfully installed torcheval-0.0.7\n"
          ]
        }
      ]
    },
    {
      "cell_type": "code",
      "source": [
        "# Compare with pytorch metrics\n",
        "# https://docs.pytorch.org/torcheval/main/torcheval.metrics.html#classification-metrics\n",
        "num_classes = 10\n",
        "device = torch.device(\"cuda:0\" if torch.cuda.is_available() else \"cpu\")\n",
        "\n",
        "accuracy = MulticlassAccuracy(num_classes=num_classes, average=None).to(device)\n",
        "precision = MulticlassPrecision(num_classes=num_classes, average=None).to(device)\n",
        "recall    = MulticlassRecall(num_classes=num_classes, average=None).to(device)\n",
        "f1_score  = MulticlassF1Score(num_classes=num_classes, average=None).to(device)\n",
        "\n",
        "model.eval()\n",
        "with torch.no_grad():\n",
        "    for inputs, targets in mnist_val:\n",
        "        inputs, targets = inputs.to(device), targets.to(device)\n",
        "\n",
        "        logits = model(inputs)\n",
        "        preds  = logits.argmax(dim=1)\n",
        "\n",
        "        accuracy.update(preds, targets)\n",
        "        precision.update(preds, targets)\n",
        "        recall.update(preds, targets)\n",
        "        f1_score.update(preds, targets)\n",
        "\n",
        "results = {\n",
        "    \"accuracy\": accuracy.compute(),\n",
        "    \"precision\": precision.compute(),\n",
        "    \"recall\": recall.compute(),\n",
        "    \"f1-score\": f1_score.compute()\n",
        "}\n",
        "\n",
        "computed = stats['labeled']\n",
        "\n",
        "for key, metrics in results.items():\n",
        "  for i, val in enumerate(metrics):\n",
        "    if val != (c := computed[key][i]):\n",
        "      print(f\"Implementation error, expected {val} got {c}\")"
      ],
      "metadata": {
        "colab": {
          "base_uri": "https://localhost:8080/"
        },
        "id": "paj2XQgjHKBt",
        "outputId": "4d794817-5bff-4b1f-8b30-d43281fcaa7c"
      },
      "execution_count": null,
      "outputs": [
        {
          "output_type": "stream",
          "name": "stderr",
          "text": [
            "/usr/local/lib/python3.11/dist-packages/torcheval/metrics/functional/classification/accuracy.py:275: UserWarning: The reduce argument of torch.scatter with Tensor src is deprecated and will be removed in a future PyTorch release. Use torch.scatter_reduce instead for more reduction options. (Triggered internally at /pytorch/aten/src/ATen/native/TensorAdvancedIndexing.cpp:231.)\n",
            "  num_correct = mask.new_zeros(num_classes).scatter_(0, target, mask, reduce=\"add\")\n"
          ]
        }
      ]
    }
  ],
  "metadata": {
    "colab": {
      "provenance": [],
      "collapsed_sections": [
        "YkLyEvKyc4ZN"
      ]
    },
    "kernelspec": {
      "display_name": "Python 3",
      "name": "python3"
    },
    "language_info": {
      "name": "python"
    }
  },
  "nbformat": 4,
  "nbformat_minor": 0
}